{
 "cells": [
  {
   "cell_type": "markdown",
   "metadata": {},
   "source": [
    "!git clone https://github.com/Franck-Dernoncourt/pubmed-rct.git\n",
    "!ls pubmed-rct"
   ]
  },
  {
   "cell_type": "code",
   "execution_count": 1,
   "metadata": {},
   "outputs": [
    {
     "data": {
      "text/plain": [
       "['dev.txt', 'test.txt', 'train.txt']"
      ]
     },
     "execution_count": 1,
     "metadata": {},
     "output_type": "execute_result"
    }
   ],
   "source": [
    "import os\n",
    "from pathlib import Path\n",
    "data_dir = \"pubmed-rct\\PubMed_20k_RCT_numbers_replaced_with_at_sign\"\n",
    "os.listdir(data_dir)"
   ]
  },
  {
   "cell_type": "code",
   "execution_count": 2,
   "metadata": {},
   "outputs": [
    {
     "data": {
      "text/plain": [
       "['pubmed-rct\\\\PubMed_20k_RCT_numbers_replaced_with_at_sign\\\\dev.txt',\n",
       " 'pubmed-rct\\\\PubMed_20k_RCT_numbers_replaced_with_at_sign\\\\test.txt',\n",
       " 'pubmed-rct\\\\PubMed_20k_RCT_numbers_replaced_with_at_sign\\\\train.txt']"
      ]
     },
     "execution_count": 2,
     "metadata": {},
     "output_type": "execute_result"
    }
   ],
   "source": [
    "filenames = [data_dir + \"\\\\\" + filename for filename in os.listdir(data_dir)]\n",
    "filenames"
   ]
  },
  {
   "cell_type": "code",
   "execution_count": 3,
   "metadata": {},
   "outputs": [],
   "source": [
    "def preprocessor(data_address):\n",
    "    with open (data_address) as f:\n",
    "        text = f.readlines()\n",
    "    preprocessed_data = []\n",
    "    segment = []  # Temporary storage for the current segment\n",
    "    total_lines = 0  # Total lines in the current segment\n",
    "\n",
    "    for line in text:\n",
    "        if line.startswith(\"###\"):  # Ignore metadata lines\n",
    "            continue\n",
    "        elif line.startswith(\"\\n\"):  # End of a segment\n",
    "            # Add total line count to all lines in the segment\n",
    "            for entry in segment:\n",
    "                entry[\"total_lines\"] = total_lines\n",
    "                preprocessed_data.append(entry)\n",
    "            # Reset for the next segment\n",
    "            segment = []\n",
    "            total_lines = 0\n",
    "            continue\n",
    "        else:\n",
    "            total_lines += 1\n",
    "            line_parts = line.split(\"\\t\")\n",
    "            segment.append({\n",
    "                \"line_number\": total_lines,\n",
    "                \"target\": line_parts[0],\n",
    "                \"text\": line_parts[1],\n",
    "            })\n",
    "    return preprocessed_data"
   ]
  },
  {
   "cell_type": "code",
   "execution_count": 4,
   "metadata": {},
   "outputs": [],
   "source": [
    "import pandas as pd\n",
    "val_df = pd.DataFrame(preprocessor('pubmed-rct\\\\PubMed_20k_RCT\\\\dev.txt'))\n",
    "train_df = pd.DataFrame(preprocessor('pubmed-rct\\\\PubMed_20k_RCT\\\\train.txt'))\n",
    "test_df = pd.DataFrame(preprocessor('pubmed-rct\\\\PubMed_20k_RCT\\\\test.txt'))"
   ]
  },
  {
   "cell_type": "code",
   "execution_count": 6,
   "metadata": {},
   "outputs": [
    {
     "data": {
      "text/html": [
       "<div>\n",
       "<style scoped>\n",
       "    .dataframe tbody tr th:only-of-type {\n",
       "        vertical-align: middle;\n",
       "    }\n",
       "\n",
       "    .dataframe tbody tr th {\n",
       "        vertical-align: top;\n",
       "    }\n",
       "\n",
       "    .dataframe thead th {\n",
       "        text-align: right;\n",
       "    }\n",
       "</style>\n",
       "<table border=\"1\" class=\"dataframe\">\n",
       "  <thead>\n",
       "    <tr style=\"text-align: right;\">\n",
       "      <th></th>\n",
       "      <th>line_number</th>\n",
       "      <th>target</th>\n",
       "      <th>text</th>\n",
       "      <th>total_lines</th>\n",
       "    </tr>\n",
       "  </thead>\n",
       "  <tbody>\n",
       "    <tr>\n",
       "      <th>0</th>\n",
       "      <td>1</td>\n",
       "      <td>BACKGROUND</td>\n",
       "      <td>IgE sensitization to Aspergillus fumigatus and...</td>\n",
       "      <td>10</td>\n",
       "    </tr>\n",
       "    <tr>\n",
       "      <th>1</th>\n",
       "      <td>2</td>\n",
       "      <td>BACKGROUND</td>\n",
       "      <td>It is not clear whether these patients would b...</td>\n",
       "      <td>10</td>\n",
       "    </tr>\n",
       "    <tr>\n",
       "      <th>2</th>\n",
       "      <td>3</td>\n",
       "      <td>OBJECTIVE</td>\n",
       "      <td>We sought to determine whether a 3-month cours...</td>\n",
       "      <td>10</td>\n",
       "    </tr>\n",
       "    <tr>\n",
       "      <th>3</th>\n",
       "      <td>4</td>\n",
       "      <td>METHODS</td>\n",
       "      <td>Asthmatic patients who were IgE sensitized to ...</td>\n",
       "      <td>10</td>\n",
       "    </tr>\n",
       "    <tr>\n",
       "      <th>4</th>\n",
       "      <td>5</td>\n",
       "      <td>METHODS</td>\n",
       "      <td>Primary outcomes were improvement in quality o...</td>\n",
       "      <td>10</td>\n",
       "    </tr>\n",
       "  </tbody>\n",
       "</table>\n",
       "</div>"
      ],
      "text/plain": [
       "   line_number      target                                               text  \\\n",
       "0            1  BACKGROUND  IgE sensitization to Aspergillus fumigatus and...   \n",
       "1            2  BACKGROUND  It is not clear whether these patients would b...   \n",
       "2            3   OBJECTIVE  We sought to determine whether a 3-month cours...   \n",
       "3            4     METHODS  Asthmatic patients who were IgE sensitized to ...   \n",
       "4            5     METHODS  Primary outcomes were improvement in quality o...   \n",
       "\n",
       "   total_lines  \n",
       "0           10  \n",
       "1           10  \n",
       "2           10  \n",
       "3           10  \n",
       "4           10  "
      ]
     },
     "execution_count": 6,
     "metadata": {},
     "output_type": "execute_result"
    }
   ],
   "source": [
    "val_df.head()"
   ]
  },
  {
   "cell_type": "code",
   "execution_count": 7,
   "metadata": {},
   "outputs": [
    {
     "data": {
      "text/html": [
       "<div>\n",
       "<style scoped>\n",
       "    .dataframe tbody tr th:only-of-type {\n",
       "        vertical-align: middle;\n",
       "    }\n",
       "\n",
       "    .dataframe tbody tr th {\n",
       "        vertical-align: top;\n",
       "    }\n",
       "\n",
       "    .dataframe thead th {\n",
       "        text-align: right;\n",
       "    }\n",
       "</style>\n",
       "<table border=\"1\" class=\"dataframe\">\n",
       "  <thead>\n",
       "    <tr style=\"text-align: right;\">\n",
       "      <th></th>\n",
       "      <th>line_number</th>\n",
       "      <th>target</th>\n",
       "      <th>text</th>\n",
       "      <th>total_lines</th>\n",
       "    </tr>\n",
       "  </thead>\n",
       "  <tbody>\n",
       "    <tr>\n",
       "      <th>0</th>\n",
       "      <td>1</td>\n",
       "      <td>OBJECTIVE</td>\n",
       "      <td>To investigate the efficacy of 6 weeks of dail...</td>\n",
       "      <td>12</td>\n",
       "    </tr>\n",
       "    <tr>\n",
       "      <th>1</th>\n",
       "      <td>2</td>\n",
       "      <td>METHODS</td>\n",
       "      <td>A total of 125 patients with primary knee OA w...</td>\n",
       "      <td>12</td>\n",
       "    </tr>\n",
       "    <tr>\n",
       "      <th>2</th>\n",
       "      <td>3</td>\n",
       "      <td>METHODS</td>\n",
       "      <td>Outcome measures included pain reduction and i...</td>\n",
       "      <td>12</td>\n",
       "    </tr>\n",
       "    <tr>\n",
       "      <th>3</th>\n",
       "      <td>4</td>\n",
       "      <td>METHODS</td>\n",
       "      <td>Pain was assessed using the visual analog pain...</td>\n",
       "      <td>12</td>\n",
       "    </tr>\n",
       "    <tr>\n",
       "      <th>4</th>\n",
       "      <td>5</td>\n",
       "      <td>METHODS</td>\n",
       "      <td>Secondary outcome measures included the Wester...</td>\n",
       "      <td>12</td>\n",
       "    </tr>\n",
       "  </tbody>\n",
       "</table>\n",
       "</div>"
      ],
      "text/plain": [
       "   line_number     target                                               text  \\\n",
       "0            1  OBJECTIVE  To investigate the efficacy of 6 weeks of dail...   \n",
       "1            2    METHODS  A total of 125 patients with primary knee OA w...   \n",
       "2            3    METHODS  Outcome measures included pain reduction and i...   \n",
       "3            4    METHODS  Pain was assessed using the visual analog pain...   \n",
       "4            5    METHODS  Secondary outcome measures included the Wester...   \n",
       "\n",
       "   total_lines  \n",
       "0           12  \n",
       "1           12  \n",
       "2           12  \n",
       "3           12  \n",
       "4           12  "
      ]
     },
     "execution_count": 7,
     "metadata": {},
     "output_type": "execute_result"
    }
   ],
   "source": [
    "train_df.head(5)"
   ]
  },
  {
   "cell_type": "code",
   "execution_count": 8,
   "metadata": {},
   "outputs": [
    {
     "data": {
      "text/html": [
       "<div>\n",
       "<style scoped>\n",
       "    .dataframe tbody tr th:only-of-type {\n",
       "        vertical-align: middle;\n",
       "    }\n",
       "\n",
       "    .dataframe tbody tr th {\n",
       "        vertical-align: top;\n",
       "    }\n",
       "\n",
       "    .dataframe thead th {\n",
       "        text-align: right;\n",
       "    }\n",
       "</style>\n",
       "<table border=\"1\" class=\"dataframe\">\n",
       "  <thead>\n",
       "    <tr style=\"text-align: right;\">\n",
       "      <th></th>\n",
       "      <th>line_number</th>\n",
       "      <th>target</th>\n",
       "      <th>text</th>\n",
       "      <th>total_lines</th>\n",
       "    </tr>\n",
       "  </thead>\n",
       "  <tbody>\n",
       "    <tr>\n",
       "      <th>0</th>\n",
       "      <td>1</td>\n",
       "      <td>BACKGROUND</td>\n",
       "      <td>This study analyzed liver function abnormaliti...</td>\n",
       "      <td>9</td>\n",
       "    </tr>\n",
       "    <tr>\n",
       "      <th>1</th>\n",
       "      <td>2</td>\n",
       "      <td>RESULTS</td>\n",
       "      <td>A post hoc analysis was conducted with the use...</td>\n",
       "      <td>9</td>\n",
       "    </tr>\n",
       "    <tr>\n",
       "      <th>2</th>\n",
       "      <td>3</td>\n",
       "      <td>RESULTS</td>\n",
       "      <td>Liver function tests ( LFTs ) were measured at...</td>\n",
       "      <td>9</td>\n",
       "    </tr>\n",
       "    <tr>\n",
       "      <th>3</th>\n",
       "      <td>4</td>\n",
       "      <td>RESULTS</td>\n",
       "      <td>Survival analyses were used to assess the asso...</td>\n",
       "      <td>9</td>\n",
       "    </tr>\n",
       "    <tr>\n",
       "      <th>4</th>\n",
       "      <td>5</td>\n",
       "      <td>RESULTS</td>\n",
       "      <td>The percentage of patients with abnormal LFTs ...</td>\n",
       "      <td>9</td>\n",
       "    </tr>\n",
       "    <tr>\n",
       "      <th>5</th>\n",
       "      <td>6</td>\n",
       "      <td>RESULTS</td>\n",
       "      <td>When mean hemodynamic profiles were compared i...</td>\n",
       "      <td>9</td>\n",
       "    </tr>\n",
       "    <tr>\n",
       "      <th>6</th>\n",
       "      <td>7</td>\n",
       "      <td>RESULTS</td>\n",
       "      <td>Multivariable analyses revealed that patients ...</td>\n",
       "      <td>9</td>\n",
       "    </tr>\n",
       "    <tr>\n",
       "      <th>7</th>\n",
       "      <td>8</td>\n",
       "      <td>CONCLUSIONS</td>\n",
       "      <td>Abnormal LFTs are common in the ADHF populatio...</td>\n",
       "      <td>9</td>\n",
       "    </tr>\n",
       "    <tr>\n",
       "      <th>8</th>\n",
       "      <td>9</td>\n",
       "      <td>CONCLUSIONS</td>\n",
       "      <td>Elevated MELD-XI scores are associated with po...</td>\n",
       "      <td>9</td>\n",
       "    </tr>\n",
       "    <tr>\n",
       "      <th>9</th>\n",
       "      <td>1</td>\n",
       "      <td>BACKGROUND</td>\n",
       "      <td>Minimally invasive endovascular aneurysm repai...</td>\n",
       "      <td>13</td>\n",
       "    </tr>\n",
       "  </tbody>\n",
       "</table>\n",
       "</div>"
      ],
      "text/plain": [
       "   line_number       target  \\\n",
       "0            1   BACKGROUND   \n",
       "1            2      RESULTS   \n",
       "2            3      RESULTS   \n",
       "3            4      RESULTS   \n",
       "4            5      RESULTS   \n",
       "5            6      RESULTS   \n",
       "6            7      RESULTS   \n",
       "7            8  CONCLUSIONS   \n",
       "8            9  CONCLUSIONS   \n",
       "9            1   BACKGROUND   \n",
       "\n",
       "                                                text  total_lines  \n",
       "0  This study analyzed liver function abnormaliti...            9  \n",
       "1  A post hoc analysis was conducted with the use...            9  \n",
       "2  Liver function tests ( LFTs ) were measured at...            9  \n",
       "3  Survival analyses were used to assess the asso...            9  \n",
       "4  The percentage of patients with abnormal LFTs ...            9  \n",
       "5  When mean hemodynamic profiles were compared i...            9  \n",
       "6  Multivariable analyses revealed that patients ...            9  \n",
       "7  Abnormal LFTs are common in the ADHF populatio...            9  \n",
       "8  Elevated MELD-XI scores are associated with po...            9  \n",
       "9  Minimally invasive endovascular aneurysm repai...           13  "
      ]
     },
     "execution_count": 8,
     "metadata": {},
     "output_type": "execute_result"
    }
   ],
   "source": [
    "test_df.head(10)"
   ]
  },
  {
   "cell_type": "code",
   "execution_count": 9,
   "metadata": {},
   "outputs": [
    {
     "data": {
      "text/plain": [
       "<Axes: ylabel='target'>"
      ]
     },
     "execution_count": 9,
     "metadata": {},
     "output_type": "execute_result"
    },
    {
     "data": {
      "image/png": "[encoded data removed]",
      "text/plain": [
       "<Figure size 640x480 with 1 Axes>"
      ]
     },
     "metadata": {},
     "output_type": "display_data"
    }
   ],
   "source": [
    "import matplotlib.pyplot as plt\n",
    "train_df.target.value_counts().plot(kind='barh')"
   ]
  },
  {
   "cell_type": "code",
   "execution_count": 5,
   "metadata": {},
   "outputs": [],
   "source": [
    "train_sentences = train_df.text.tolist()\n",
    "val_sentences = val_df.text.tolist()\n",
    "test_sentences = test_df.text.tolist()"
   ]
  },
  {
   "cell_type": "code",
   "execution_count": 11,
   "metadata": {},
   "outputs": [
    {
     "data": {
      "text/plain": [
       "['IgE sensitization to Aspergillus fumigatus and a positive sputum fungal culture result are common in patients with refractory asthma .\\n',\n",
       " 'It is not clear whether these patients would benefit from antifungal treatment .\\n',\n",
       " 'We sought to determine whether a 3-month course of voriconazole improved asthma-related outcomes in patients with asthma who are IgE sensitized to A fumigatus .\\n',\n",
       " 'Asthmatic patients who were IgE sensitized to A fumigatus with a history of at least 2 severe exacerbations in the previous 12 months were treated for 3 months with 200 mg of voriconazole twice daily , followed by observation for 9 months , in a double-blind , placebo-controlled , randomized design .\\n',\n",
       " 'Primary outcomes were improvement in quality of life at the end of the treatment period and a reduction in the number of severe exacerbations over the 12 months of the study .\\n',\n",
       " 'Sixty-five patients were randomized .\\n',\n",
       " 'Fifty-nine patients started treatment ( 32 receiving voriconazole and 27 receiving placebo ) and were included in an intention-to-treat analysis .\\n',\n",
       " 'Fifty-six patients took the full 3 months of medication .\\n',\n",
       " 'Between the voriconazole and placebo groups , there were no significant differences in the number of severe exacerbations ( 1.16 vs 1.41 per patient per year , respectively ; mean difference , 0.25 ; 95 % CI , 0.19-0 .31 ) , quality of life ( change in Asthma Quality of Life Questionnaire score , 0.68 vs 0.88 ; mean difference between groups , 0.2 ; 95 % CI , -0.05 to -0.11 ) , or any of our secondary outcome measures .\\n',\n",
       " 'We were unable to show a beneficial effect of 3 months of treatment with voriconazole in patients with moderate-to-severe asthma who were IgE sensitized to A fumigatus on either the rate of severe exacerbations , quality of life , or other markers of asthma control .\\n']"
      ]
     },
     "execution_count": 11,
     "metadata": {},
     "output_type": "execute_result"
    }
   ],
   "source": [
    "val_sentences[:10]"
   ]
  },
  {
   "cell_type": "code",
   "execution_count": 6,
   "metadata": {},
   "outputs": [
    {
     "name": "stdout",
     "output_type": "stream",
     "text": [
      "(180040, 5)\n",
      "(30212, 5)\n",
      "(30135, 5)\n"
     ]
    }
   ],
   "source": [
    "from sklearn.preprocessing import OneHotEncoder\n",
    "one_hot_encoder = OneHotEncoder(sparse_output=False)\n",
    "train_labels_one_hot = one_hot_encoder.fit_transform(train_df.target.values.reshape(-1, 1))\n",
    "val_labels_one_hot = one_hot_encoder.transform(val_df.target.values.reshape(-1, 1))\n",
    "test_labels_one_hot = one_hot_encoder.transform(test_df.target.values.reshape(-1, 1))\n",
    "print(train_labels_one_hot.shape)\n",
    "print(val_labels_one_hot.shape)\n",
    "print(test_labels_one_hot.shape)"
   ]
  },
  {
   "cell_type": "code",
   "execution_count": 7,
   "metadata": {},
   "outputs": [
    {
     "name": "stdout",
     "output_type": "stream",
     "text": [
      "(180040,)\n",
      "(30212,)\n",
      "(30135,)\n"
     ]
    }
   ],
   "source": [
    "from sklearn.preprocessing import LabelEncoder\n",
    "label_encoder = LabelEncoder()\n",
    "train_labels = label_encoder.fit_transform(train_df.target.values)\n",
    "val_labels = label_encoder.transform(val_df.target.values)\n",
    "test_labels = label_encoder.transform(test_df.target.values)\n",
    "print(train_labels.shape)\n",
    "print(val_labels.shape)\n",
    "print(test_labels.shape)"
   ]
  },
  {
   "cell_type": "code",
   "execution_count": 13,
   "metadata": {},
   "outputs": [],
   "source": [
    "# Baseline Model i.e Naive bayes\n",
    "from sklearn.naive_bayes import MultinomialNB\n",
    "from sklearn.pipeline import Pipeline\n",
    "from sklearn.feature_extraction.text import TfidfVectorizer\n",
    "\n",
    "baseline = Pipeline([\n",
    "    ('tfidf',TfidfVectorizer()),\n",
    "                    ('clf',MultinomialNB())\n",
    "                    ])\n",
    "\n",
    "baseline.fit(train_sentences,train_labels)\n",
    "y_pred = baseline.predict(val_sentences)"
   ]
  },
  {
   "cell_type": "code",
   "execution_count": 14,
   "metadata": {},
   "outputs": [
    {
     "data": {
      "text/plain": [
       "{'accuracy': 0.7317291142592347,\n",
       " 'precision': 0.7315166696974572,\n",
       " 'recall': 0.7317291142592347,\n",
       " 'f1': 0.7058060715307974}"
      ]
     },
     "execution_count": 14,
     "metadata": {},
     "output_type": "execute_result"
    }
   ],
   "source": [
    "from helper_functions import calculate_metrics\n",
    "baseline_results = calculate_metrics(val_labels,y_pred)\n",
    "baseline_results"
   ]
  },
  {
   "cell_type": "code",
   "execution_count": 14,
   "metadata": {},
   "outputs": [
    {
     "data": {
      "text/plain": [
       "26.338435903132638"
      ]
     },
     "execution_count": 14,
     "metadata": {},
     "output_type": "execute_result"
    }
   ],
   "source": [
    "import numpy as np\n",
    "sent_len = [len(sentence.split()) for sentence in train_sentences]\n",
    "average_sent_len = np.mean(sent_len)\n",
    "average_sent_len"
   ]
  },
  {
   "cell_type": "code",
   "execution_count": 15,
   "metadata": {},
   "outputs": [
    {
     "data": {
      "text/plain": [
       "55"
      ]
     },
     "execution_count": 15,
     "metadata": {},
     "output_type": "execute_result"
    }
   ],
   "source": [
    "output_seq_len = int(np.percentile(sent_len,95))\n",
    "output_seq_len"
   ]
  },
  {
   "cell_type": "code",
   "execution_count": 23,
   "metadata": {},
   "outputs": [],
   "source": [
    "import tensorflow as tf\n",
    "from tensorflow.keras.layers import TextVectorization,Embedding\n",
    "\n",
    "max_tokens = 680000  # Maximum vocab size.\n",
    "max_len = output_seq_len # Sequence length to pad the outputs to.\n",
    "# Create the layer.\n",
    "vectorize_layer = TextVectorization(\n",
    "    max_tokens=max_tokens,\n",
    "    output_sequence_length=output_seq_len)\n",
    "vectorize_layer.adapt(train_sentences)"
   ]
  },
  {
   "cell_type": "code",
   "execution_count": 26,
   "metadata": {},
   "outputs": [
    {
     "data": {
      "text/plain": [
       "['', '[UNK]', 'the', 'and', 'of', 'in']"
      ]
     },
     "execution_count": 26,
     "metadata": {},
     "output_type": "execute_result"
    }
   ],
   "source": [
    "rct_vocab_20K = vectorize_layer.get_vocabulary()\n",
    "rct_vocab_20K[:6]"
   ]
  },
  {
   "cell_type": "code",
   "execution_count": 27,
   "metadata": {},
   "outputs": [],
   "source": [
    "embedding_layer = Embedding(\n",
    "    input_dim=len(rct_vocab_20K),\n",
    "    output_dim=128,\n",
    "    mask_zero=True,\n",
    "    name=\"token_embedding\"\n",
    "    )"
   ]
  },
  {
   "cell_type": "code",
   "execution_count": 21,
   "metadata": {},
   "outputs": [],
   "source": [
    "# creating data set for better peformance and reduced time\n",
    "train_dataset = tf.data.Dataset.from_tensor_slices((train_sentences,train_labels_one_hot))\n",
    "train_dataset = train_dataset.batch(32).prefetch(tf.data.AUTOTUNE)\n",
    "valid_dataset = tf.data.Dataset.from_tensor_slices((val_sentences,val_labels_one_hot))\n",
    "valid_dataset = valid_dataset.batch(32).prefetch(tf.data.AUTOTUNE)\n",
    "test_dataset = tf.data.Dataset.from_tensor_slices((test_sentences,test_labels_one_hot))\n",
    "test_dataset = test_dataset.batch(32).prefetch(tf.data.AUTOTUNE)"
   ]
  },
  {
   "cell_type": "code",
   "execution_count": 22,
   "metadata": {},
   "outputs": [
    {
     "data": {
      "text/plain": [
       "<PrefetchDataset element_spec=(TensorSpec(shape=(None,), dtype=tf.string, name=None), TensorSpec(shape=(None, 5), dtype=tf.float64, name=None))>"
      ]
     },
     "execution_count": 22,
     "metadata": {},
     "output_type": "execute_result"
    }
   ],
   "source": [
    "train_dataset"
   ]
  },
  {
   "cell_type": "code",
   "execution_count": 44,
   "metadata": {},
   "outputs": [
    {
     "name": "stdout",
     "output_type": "stream",
     "text": [
      "Model: \"model\"\n",
      "_________________________________________________________________\n",
      " Layer (type)                Output Shape              Param #   \n",
      "=================================================================\n",
      " input_1 (InputLayer)        [(None, 1)]               0         \n",
      "                                                                 \n",
      " text_vectorization (TextVec  (None, 55)               0         \n",
      " torization)                                                     \n",
      "                                                                 \n",
      " token_embedding (Embedding)  (None, 55, 128)          11411456  \n",
      "                                                                 \n",
      " conv1d (Conv1D)             (None, 55, 128)           82048     \n",
      "                                                                 \n",
      " global_average_pooling1d (G  (None, 128)              0         \n",
      " lobalAveragePooling1D)                                          \n",
      "                                                                 \n",
      " dense (Dense)               (None, 5)                 645       \n",
      "                                                                 \n",
      "=================================================================\n",
      "Total params: 11,494,149\n",
      "Trainable params: 11,494,149\n",
      "Non-trainable params: 0\n",
      "_________________________________________________________________\n"
     ]
    }
   ],
   "source": [
    "# Use conv1d model\n",
    "input = tf.keras.layers.Input(shape=(1,),dtype=tf.string)\n",
    "x = vectorize_layer(input)\n",
    "x = embedding_layer(x)\n",
    "x = tf.keras.layers.Conv1D(128, 5, activation='relu',padding='same')(x)\n",
    "x = tf.keras.layers.GlobalAveragePooling1D()(x)\n",
    "output = tf.keras.layers.Dense(5, activation='softmax')(x)\n",
    "model_1 = tf.keras.Model(input, output)\n",
    "model_1.summary()"
   ]
  },
  {
   "cell_type": "code",
   "execution_count": 45,
   "metadata": {},
   "outputs": [],
   "source": [
    "model_1.compile(\n",
    "    loss='categorical_crossentropy',\n",
    "    optimizer= tf.keras.optimizers.Adam(),\n",
    "    metrics=['accuracy']\n",
    ")"
   ]
  },
  {
   "cell_type": "code",
   "execution_count": 46,
   "metadata": {},
   "outputs": [],
   "source": [
    "from keras import backend as K \n",
    "\n",
    "# Do some code, e.g. train and save model\n",
    "\n",
    "K.clear_session()"
   ]
  },
  {
   "cell_type": "code",
   "execution_count": 47,
   "metadata": {},
   "outputs": [
    {
     "name": "stdout",
     "output_type": "stream",
     "text": [
      "Epoch 1/5\n",
      "562/562 [==============================] - 42s 73ms/step - loss: 0.3370 - accuracy: 0.9079 - val_loss: 0.7562 - val_accuracy: 0.7623\n",
      "Epoch 2/5\n",
      "562/562 [==============================] - 43s 76ms/step - loss: 0.4776 - accuracy: 0.8335 - val_loss: 0.6387 - val_accuracy: 0.7726\n",
      "Epoch 3/5\n",
      "562/562 [==============================] - 42s 75ms/step - loss: 0.4670 - accuracy: 0.8375 - val_loss: 0.6094 - val_accuracy: 0.7806\n",
      "Epoch 4/5\n",
      "562/562 [==============================] - 41s 73ms/step - loss: 0.5895 - accuracy: 0.7888 - val_loss: 0.5773 - val_accuracy: 0.7932\n",
      "Epoch 5/5\n",
      "562/562 [==============================] - 41s 73ms/step - loss: 0.5765 - accuracy: 0.7921 - val_loss: 0.5497 - val_accuracy: 0.8022\n"
     ]
    }
   ],
   "source": [
    "from helper_functions import create_tensorboard_callback\n",
    "import datetime\n",
    "import tensorflow as tf\n",
    "from keras import backend as K\n",
    "\n",
    "# Use it during model training\n",
    "history_1 = model_1.fit(\n",
    "    train_dataset,\n",
    "    steps_per_epoch=int(0.1 * len(train_dataset)),\n",
    "    epochs=5,\n",
    "    validation_data=valid_dataset,  # Removed parentheses; valid_dataset is a dataset, not a tuple\n",
    "    validation_steps=int(0.1 * len(valid_dataset)),                \n",
    "   \n",
    ")\n",
    "\n",
    "K.clear_session()\n"
   ]
  },
  {
   "cell_type": "code",
   "execution_count": 49,
   "metadata": {},
   "outputs": [
    {
     "name": "stdout",
     "output_type": "stream",
     "text": [
      "945/945 [==============================] - 9s 9ms/step - loss: 0.5431 - accuracy: 0.8058\n"
     ]
    },
    {
     "data": {
      "text/plain": [
       "[0.5431056618690491, 0.8058056235313416]"
      ]
     },
     "execution_count": 49,
     "metadata": {},
     "output_type": "execute_result"
    }
   ],
   "source": [
    "model_1.evaluate(valid_dataset)"
   ]
  },
  {
   "cell_type": "code",
   "execution_count": 50,
   "metadata": {},
   "outputs": [
    {
     "name": "stdout",
     "output_type": "stream",
     "text": [
      "945/945 [==============================] - 5s 5ms/step\n"
     ]
    },
    {
     "data": {
      "text/plain": [
       "{'accuracy': 0.8058056401429895,\n",
       " 'precision': 0.8061259044579924,\n",
       " 'recall': 0.8058056401429895,\n",
       " 'f1': 0.8026146566042901}"
      ]
     },
     "execution_count": 50,
     "metadata": {},
     "output_type": "execute_result"
    }
   ],
   "source": [
    "model_probs = model_1.predict(valid_dataset)\n",
    "model_preds = model_probs.argmax(axis = 1)\n",
    "\n",
    "from helper_functions import calculate_metrics\n",
    "model_1_results = calculate_metrics(val_labels,model_preds)\n",
    "model_1_results"
   ]
  },
  {
   "cell_type": "code",
   "execution_count": 57,
   "metadata": {},
   "outputs": [],
   "source": [
    "# save model\n",
    "\n",
    "model_1.save_weights('model_1//model_1',save_format='tf')"
   ]
  },
  {
   "cell_type": "code",
   "execution_count": 17,
   "metadata": {},
   "outputs": [
    {
     "name": "stdout",
     "output_type": "stream",
     "text": [
      "Model: \"model_2_USE\"\n",
      "__________________________________________________________________________________________________\n",
      " Layer (type)                   Output Shape         Param #     Connected to                     \n",
      "==================================================================================================\n",
      " text_input (InputLayer)        [(None,)]            0           []                               \n",
      "                                                                                                  \n",
      " text_preprocessor (KerasLayer)  {'input_mask': (Non  0          ['text_input[0][0]']             \n",
      "                                e, 128),                                                          \n",
      "                                 'input_word_ids':                                                \n",
      "                                (None, 128),                                                      \n",
      "                                 'input_type_ids':                                                \n",
      "                                (None, 128)}                                                      \n",
      "                                                                                                  \n",
      " USE_encoder (KerasLayer)       (None, 768)          109482241   ['text_preprocessor[0][0]',      \n",
      "                                                                  'text_preprocessor[0][1]',      \n",
      "                                                                  'text_preprocessor[0][2]']      \n",
      "                                                                                                  \n",
      " dense_64 (Dense)               (None, 64)           49216       ['USE_encoder[0][0]']            \n",
      "                                                                                                  \n",
      " output_layer (Dense)           (None, 5)            325         ['dense_64[0][0]']               \n",
      "                                                                                                  \n",
      "==================================================================================================\n",
      "Total params: 109,531,782\n",
      "Trainable params: 49,541\n",
      "Non-trainable params: 109,482,241\n",
      "__________________________________________________________________________________________________\n"
     ]
    }
   ],
   "source": [
    "import tensorflow_hub as hub\n",
    "import tensorflow as tf\n",
    "from tensorflow.keras import layers\n",
    "import tensorflow_text\n",
    "\n",
    "# Define the preprocessor and encoder layers\n",
    "preprocessor = hub.KerasLayer(\n",
    "    \"https://kaggle.com/models/tensorflow/bert/TensorFlow2/en-uncased-preprocess/3\", \n",
    "    name=\"text_preprocessor\"\n",
    ")\n",
    "encoder = hub.KerasLayer(\n",
    "    \"https://www.kaggle.com/models/google/universal-sentence-encoder/TensorFlow2/cmlm-en-base/1\", \n",
    "    name=\"USE_encoder\",\n",
    "    output_key=\"pooled_output\"  # Explicitly choose pooled output (sequence-level embedding)\n",
    ")\n",
    "\n",
    "# Define the input layer\n",
    "input_layer = layers.Input(shape=(), dtype=tf.string, name=\"text_input\")\n",
    "\n",
    "# Build the model pipeline\n",
    "x = preprocessor(input_layer)\n",
    "encoder_output = encoder(x)  # Extract the relevant output from the encoder\n",
    "x = layers.Dense(64, activation='relu', name=\"dense_64\")(encoder_output)\n",
    "output_layer = layers.Dense(5, activation='softmax', name=\"output_layer\")(x)\n",
    "\n",
    "model_2 = tf.keras.Model(inputs=input_layer, outputs=output_layer, name=\"model_2_USE\")\n",
    "\n",
    "# Compile the model\n",
    "model_2.compile(\n",
    "    loss='categorical_crossentropy',\n",
    "    optimizer= tf.keras.optimizers.Adam(),\n",
    "    metrics=['accuracy']\n",
    "\n",
    ")\n",
    "\n",
    "# Summary of the model\n",
    "model_2.summary()\n"
   ]
  },
  {
   "cell_type": "code",
   "execution_count": 18,
   "metadata": {},
   "outputs": [
    {
     "name": "stdout",
     "output_type": "stream",
     "text": [
      "Epoch 1/5\n",
      "562/562 [==============================] - 2117s 4s/step - loss: 0.7545 - accuracy: 0.7246 - val_loss: 0.5829 - val_accuracy: 0.7832\n",
      "Epoch 2/5\n",
      "562/562 [==============================] - 2112s 4s/step - loss: 0.5540 - accuracy: 0.7975 - val_loss: 0.5508 - val_accuracy: 0.8009\n",
      "Epoch 3/5\n",
      "562/562 [==============================] - 2107s 4s/step - loss: 0.5287 - accuracy: 0.8100 - val_loss: 0.5314 - val_accuracy: 0.8022\n",
      "Epoch 4/5\n",
      "562/562 [==============================] - 2101s 4s/step - loss: 0.5092 - accuracy: 0.8158 - val_loss: 0.5132 - val_accuracy: 0.8095\n",
      "Epoch 5/5\n",
      "562/562 [==============================] - 2099s 4s/step - loss: 0.5123 - accuracy: 0.8171 - val_loss: 0.4950 - val_accuracy: 0.8208\n"
     ]
    }
   ],
   "source": [
    "from helper_functions import create_tensorboard_callback\n",
    "import datetime\n",
    "import tensorflow as tf\n",
    "from keras import backend as K\n",
    "\n",
    "# Use it during model training\n",
    "history_2 = model_2.fit(\n",
    "    train_dataset,\n",
    "    steps_per_epoch=int(0.1 * len(train_dataset)),\n",
    "    epochs=5,\n",
    "    validation_data=valid_dataset,  # Removed parentheses; valid_dataset is a dataset, not a tuple\n",
    "    validation_steps=int(0.1 * len(valid_dataset)),                \n",
    "   \n",
    ")\n",
    "\n",
    "K.clear_session()"
   ]
  },
  {
   "cell_type": "code",
   "execution_count": 19,
   "metadata": {},
   "outputs": [
    {
     "name": "stdout",
     "output_type": "stream",
     "text": [
      "945/945 [==============================] - 8029s 9s/step\n"
     ]
    },
    {
     "data": {
      "text/plain": [
       "{'accuracy': 0.8244075201906528,\n",
       " 'precision': 0.8245695751275294,\n",
       " 'recall': 0.8244075201906528,\n",
       " 'f1': 0.8222582753927986}"
      ]
     },
     "execution_count": 19,
     "metadata": {},
     "output_type": "execute_result"
    }
   ],
   "source": [
    "model_2_probs = model_2.predict(valid_dataset)\n",
    "model_2_preds = model_2_probs.argmax(axis = 1)\n",
    "\n",
    "from helper_functions import calculate_metrics\n",
    "model_2_results = calculate_metrics(val_labels,model_2_preds)\n",
    "model_2_results"
   ]
  },
  {
   "cell_type": "markdown",
   "metadata": {},
   "source": [
    "# character level encoding"
   ]
  },
  {
   "cell_type": "code",
   "execution_count": 10,
   "metadata": {},
   "outputs": [
    {
     "data": {
      "text/plain": [
       "['To investigate the efficacy of 6 weeks of daily low-dose oral prednisolone in improving pain , mobility , and systemic low-grade inflammation in the short term and whether the effect would be sustained at 12 weeks in older adults with moderate to severe knee osteoarthritis ( OA ) .\\n',\n",
       " 'A total of 125 patients with primary knee OA were randomized 1:1 ; 63 received 7.5 mg/day of prednisolone and 62 received placebo for 6 weeks .\\n',\n",
       " 'Outcome measures included pain reduction and improvement in function scores and systemic inflammation markers .\\n',\n",
       " 'Pain was assessed using the visual analog pain scale ( 0-100 mm ) .\\n',\n",
       " 'Secondary outcome measures included the Western Ontario and McMaster Universities Osteoarthritis Index scores , patient global assessment ( PGA ) of the severity of knee OA , and 6-min walk distance ( 6MWD ) .\\n',\n",
       " 'Serum levels of interleukin 1 ( IL-1 ) , IL-6 , tumor necrosis factor ( TNF ) - , and high-sensitivity C-reactive protein ( hsCRP ) were measured .\\n',\n",
       " 'There was a clinically relevant reduction in the intervention group compared to the placebo group for knee pain , physical function , PGA , and 6MWD at 6 weeks .\\n',\n",
       " 'The mean difference between treatment arms ( 95 % CI ) was 10.9 ( 4.8-18 .0 ) , p < 0.001 ; 9.5 ( 3.7-15 .4 ) , p < 0.05 ; 15.7 ( 5.3-26 .1 ) , p < 0.001 ; and 86.9 ( 29.8-144 .1 ) , p < 0.05 , respectively .\\n',\n",
       " 'Further , there was a clinically relevant reduction in the serum levels of IL-1 , IL-6 , TNF - , and hsCRP at 6 weeks in the intervention group when compared to the placebo group .\\n',\n",
       " 'These differences remained significant at 12 weeks .\\n']"
      ]
     },
     "execution_count": 10,
     "metadata": {},
     "output_type": "execute_result"
    }
   ],
   "source": [
    "train_sentences[:10]"
   ]
  },
  {
   "cell_type": "code",
   "execution_count": 31,
   "metadata": {},
   "outputs": [],
   "source": [
    "def split_chars(text):\n",
    "    return ' '.join(list(text))"
   ]
  },
  {
   "cell_type": "code",
   "execution_count": 32,
   "metadata": {},
   "outputs": [],
   "source": [
    "train_chars = [split_chars(text) for text in train_sentences]\n",
    "val_chars = [split_chars(text) for text in val_sentences]\n",
    "test_chars = [split_chars(text) for text in test_sentences]"
   ]
  },
  {
   "cell_type": "code",
   "execution_count": 33,
   "metadata": {},
   "outputs": [
    {
     "data": {
      "text/plain": [
       "['T o   i n v e s t i g a t e   t h e   e f f i c a c y   o f   6   w e e k s   o f   d a i l y   l o w - d o s e   o r a l   p r e d n i s o l o n e   i n   i m p r o v i n g   p a i n   ,   m o b i l i t y   ,   a n d   s y s t e m i c   l o w - g r a d e   i n f l a m m a t i o n   i n   t h e   s h o r t   t e r m   a n d   w h e t h e r   t h e   e f f e c t   w o u l d   b e   s u s t a i n e d   a t   1 2   w e e k s   i n   o l d e r   a d u l t s   w i t h   m o d e r a t e   t o   s e v e r e   k n e e   o s t e o a r t h r i t i s   (   O A   )   . \\n',\n",
       " 'A   t o t a l   o f   1 2 5   p a t i e n t s   w i t h   p r i m a r y   k n e e   O A   w e r e   r a n d o m i z e d   1 : 1   ;   6 3   r e c e i v e d   7 . 5   m g / d a y   o f   p r e d n i s o l o n e   a n d   6 2   r e c e i v e d   p l a c e b o   f o r   6   w e e k s   . \\n',\n",
       " 'O u t c o m e   m e a s u r e s   i n c l u d e d   p a i n   r e d u c t i o n   a n d   i m p r o v e m e n t   i n   f u n c t i o n   s c o r e s   a n d   s y s t e m i c   i n f l a m m a t i o n   m a r k e r s   . \\n',\n",
       " 'P a i n   w a s   a s s e s s e d   u s i n g   t h e   v i s u a l   a n a l o g   p a i n   s c a l e   (   0 - 1 0 0   m m   )   . \\n',\n",
       " 'S e c o n d a r y   o u t c o m e   m e a s u r e s   i n c l u d e d   t h e   W e s t e r n   O n t a r i o   a n d   M c M a s t e r   U n i v e r s i t i e s   O s t e o a r t h r i t i s   I n d e x   s c o r e s   ,   p a t i e n t   g l o b a l   a s s e s s m e n t   (   P G A   )   o f   t h e   s e v e r i t y   o f   k n e e   O A   ,   a n d   6 - m i n   w a l k   d i s t a n c e   (   6 M W D   )   . \\n',\n",
       " 'S e r u m   l e v e l s   o f   i n t e r l e u k i n   1   (   I L - 1   )   ,   I L - 6   ,   t u m o r   n e c r o s i s   f a c t o r   (   T N F   )   -   ,   a n d   h i g h - s e n s i t i v i t y   C - r e a c t i v e   p r o t e i n   (   h s C R P   )   w e r e   m e a s u r e d   . \\n',\n",
       " 'T h e r e   w a s   a   c l i n i c a l l y   r e l e v a n t   r e d u c t i o n   i n   t h e   i n t e r v e n t i o n   g r o u p   c o m p a r e d   t o   t h e   p l a c e b o   g r o u p   f o r   k n e e   p a i n   ,   p h y s i c a l   f u n c t i o n   ,   P G A   ,   a n d   6 M W D   a t   6   w e e k s   . \\n',\n",
       " 'T h e   m e a n   d i f f e r e n c e   b e t w e e n   t r e a t m e n t   a r m s   (   9 5   %   C I   )   w a s   1 0 . 9   (   4 . 8 - 1 8   . 0   )   ,   p   <   0 . 0 0 1   ;   9 . 5   (   3 . 7 - 1 5   . 4   )   ,   p   <   0 . 0 5   ;   1 5 . 7   (   5 . 3 - 2 6   . 1   )   ,   p   <   0 . 0 0 1   ;   a n d   8 6 . 9   (   2 9 . 8 - 1 4 4   . 1   )   ,   p   <   0 . 0 5   ,   r e s p e c t i v e l y   . \\n',\n",
       " 'F u r t h e r   ,   t h e r e   w a s   a   c l i n i c a l l y   r e l e v a n t   r e d u c t i o n   i n   t h e   s e r u m   l e v e l s   o f   I L - 1   ,   I L - 6   ,   T N F   -   ,   a n d   h s C R P   a t   6   w e e k s   i n   t h e   i n t e r v e n t i o n   g r o u p   w h e n   c o m p a r e d   t o   t h e   p l a c e b o   g r o u p   . \\n',\n",
       " 'T h e s e   d i f f e r e n c e s   r e m a i n e d   s i g n i f i c a n t   a t   1 2   w e e k s   . \\n']"
      ]
     },
     "execution_count": 33,
     "metadata": {},
     "output_type": "execute_result"
    }
   ],
   "source": [
    "train_chars[:10]"
   ]
  },
  {
   "cell_type": "code",
   "execution_count": 49,
   "metadata": {},
   "outputs": [
    {
     "data": {
      "text/plain": [
       "126.66784047989336"
      ]
     },
     "execution_count": 49,
     "metadata": {},
     "output_type": "execute_result"
    }
   ],
   "source": [
    "import numpy as np\n",
    "sent_len = [len(text.split()) for text in train_chars]\n",
    "avg_len = np.mean(sent_len)\n",
    "avg_len"
   ]
  },
  {
   "cell_type": "code",
   "execution_count": 50,
   "metadata": {},
   "outputs": [
    {
     "data": {
      "text/plain": [
       "245"
      ]
     },
     "execution_count": 50,
     "metadata": {},
     "output_type": "execute_result"
    }
   ],
   "source": [
    "output_seq_len = int(np.percentile(sent_len, 95))\n",
    "output_seq_len"
   ]
  },
  {
   "cell_type": "code",
   "execution_count": 51,
   "metadata": {},
   "outputs": [],
   "source": [
    "from tensorflow.keras.layers import TextVectorization,Embedding\n",
    "\n",
    "max_tokens = 680000  # Maximum vocab size.\n",
    "max_len = output_seq_len # Sequence length to pad the outputs to.\n",
    "# Create the layer.\n",
    "vectorize_layer = TextVectorization(\n",
    "    max_tokens=max_tokens,\n",
    "    output_sequence_length=output_seq_len)\n",
    "vectorize_layer.adapt(train_chars)"
   ]
  },
  {
   "cell_type": "code",
   "execution_count": 52,
   "metadata": {},
   "outputs": [
    {
     "data": {
      "text/plain": [
       "['', '[UNK]', 'e', 't', 'i', 'a']"
      ]
     },
     "execution_count": 52,
     "metadata": {},
     "output_type": "execute_result"
    }
   ],
   "source": [
    "rct_vocab_20K_chars = vectorize_layer.get_vocabulary()\n",
    "rct_vocab_20K_chars[:6]"
   ]
  },
  {
   "cell_type": "code",
   "execution_count": 61,
   "metadata": {},
   "outputs": [
    {
     "data": {
      "text/plain": [
       "38"
      ]
     },
     "execution_count": 61,
     "metadata": {},
     "output_type": "execute_result"
    }
   ],
   "source": [
    "len(rct_vocab_20K_chars)"
   ]
  },
  {
   "cell_type": "code",
   "execution_count": 54,
   "metadata": {},
   "outputs": [],
   "source": [
    "embed_layer = Embedding(\n",
    "    input_dim=len(rct_vocab_20K_chars),\n",
    "    output_dim=128,\n",
    "    mask_zero=True,\n",
    "    name=\"token_embedding\"\n",
    ")"
   ]
  },
  {
   "cell_type": "code",
   "execution_count": 56,
   "metadata": {},
   "outputs": [
    {
     "name": "stdout",
     "output_type": "stream",
     "text": [
      "Model: \"model\"\n",
      "_________________________________________________________________\n",
      " Layer (type)                Output Shape              Param #   \n",
      "=================================================================\n",
      " input_1 (InputLayer)        [(None, 1)]               0         \n",
      "                                                                 \n",
      " text_vectorization (TextVec  (None, 245)              0         \n",
      " torization)                                                     \n",
      "                                                                 \n",
      " token_embedding (Embedding)  (None, 245, 128)         4864      \n",
      "                                                                 \n",
      " conv1d (Conv1D)             (None, 245, 128)          82048     \n",
      "                                                                 \n",
      " global_average_pooling1d (G  (None, 128)              0         \n",
      " lobalAveragePooling1D)                                          \n",
      "                                                                 \n",
      " dense (Dense)               (None, 5)                 645       \n",
      "                                                                 \n",
      "=================================================================\n",
      "Total params: 87,557\n",
      "Trainable params: 87,557\n",
      "Non-trainable params: 0\n",
      "_________________________________________________________________\n"
     ]
    }
   ],
   "source": [
    "#now model 3 in functionalkn api\n",
    "import tensorflow as tf\n",
    "input = tf.keras.layers.Input(shape=(1,),dtype=tf.string)\n",
    "x = vectorize_layer(input)\n",
    "x = embed_layer(x)\n",
    "x = tf.keras.layers.Conv1D(128, 5, activation='relu',padding='same')(x)\n",
    "x = tf.keras.layers.GlobalAveragePooling1D()(x)\n",
    "output = tf.keras.layers.Dense(5, activation='softmax')(x)\n",
    "model_3 = tf.keras.Model(input, output)\n",
    "model_3.summary()"
   ]
  },
  {
   "cell_type": "code",
   "execution_count": 57,
   "metadata": {},
   "outputs": [],
   "source": [
    "# create scheduler\n",
    "from tensorflow.keras.optimizers.schedules import ExponentialDecay\n",
    "from tensorflow.keras.optimizers import Adam\n",
    "\n",
    "lr_schedule = ExponentialDecay(\n",
    "    initial_learning_rate=1e-2,\n",
    "    decay_steps=10000,\n",
    "    decay_rate=0.9\n",
    ")\n",
    "optimizer = Adam(learning_rate=lr_schedule)\n",
    "model_3.compile(\n",
    "    loss='categorical_crossentropy',\n",
    "    optimizer=optimizer,\n",
    "    metrics=['accuracy']\n",
    ")"
   ]
  },
  {
   "cell_type": "code",
   "execution_count": 59,
   "metadata": {},
   "outputs": [],
   "source": [
    "train_dataset_chars = tf.data.Dataset.from_tensor_slices((train_chars,train_labels_one_hot))\n",
    "train_dataset_chars = train_dataset_chars.batch(32).prefetch(tf.data.AUTOTUNE)\n",
    "valid_dataset_chars = tf.data.Dataset.from_tensor_slices((val_chars,val_labels_one_hot))\n",
    "valid_dataset_chars = valid_dataset_chars.batch(32).prefetch(tf.data.AUTOTUNE)\n",
    "test_dataset_chars = tf.data.Dataset.from_tensor_slices((test_chars,test_labels_one_hot))\n",
    "test_dataset_chars = test_dataset_chars.batch(32).prefetch(tf.data.AUTOTUNE)"
   ]
  },
  {
   "cell_type": "code",
   "execution_count": 60,
   "metadata": {},
   "outputs": [
    {
     "name": "stdout",
     "output_type": "stream",
     "text": [
      "Epoch 1/5\n",
      "562/562 [==============================] - 32s 43ms/step - loss: 1.2034 - accuracy: 0.5084 - val_loss: 1.0511 - val_accuracy: 0.5572\n",
      "Epoch 2/5\n",
      "562/562 [==============================] - 23s 41ms/step - loss: 1.0084 - accuracy: 0.5914 - val_loss: 0.9087 - val_accuracy: 0.6466\n",
      "Epoch 3/5\n",
      "562/562 [==============================] - 26s 45ms/step - loss: 0.9018 - accuracy: 0.6498 - val_loss: 0.8430 - val_accuracy: 0.6755\n",
      "Epoch 4/5\n",
      "562/562 [==============================] - 28s 49ms/step - loss: 0.8375 - accuracy: 0.6783 - val_loss: 0.7825 - val_accuracy: 0.6951\n",
      "Epoch 5/5\n",
      "562/562 [==============================] - 24s 42ms/step - loss: 0.7871 - accuracy: 0.7040 - val_loss: 0.7323 - val_accuracy: 0.7197\n"
     ]
    }
   ],
   "source": [
    "history_3 = model_3.fit(\n",
    "    train_dataset_chars,\n",
    "    steps_per_epoch=int(0.1 * len(train_dataset_chars)),\n",
    "    epochs=5,\n",
    "    validation_data=valid_dataset_chars,  # Removed parentheses; valid_dataset is a dataset, not a tuple\n",
    "    validation_steps=int(0.1 * len(valid_dataset_chars)),\n",
    ")"
   ]
  },
  {
   "cell_type": "code",
   "execution_count": 64,
   "metadata": {},
   "outputs": [
    {
     "name": "stdout",
     "output_type": "stream",
     "text": [
      "945/945 [==============================] - 18s 19ms/step - loss: 0.7329 - accuracy: 0.7280\n"
     ]
    },
    {
     "data": {
      "text/plain": [
       "[0.7329113483428955, 0.7279557585716248]"
      ]
     },
     "execution_count": 64,
     "metadata": {},
     "output_type": "execute_result"
    }
   ],
   "source": [
    "model_3.evaluate(valid_dataset_chars)"
   ]
  },
  {
   "cell_type": "code",
   "execution_count": 65,
   "metadata": {},
   "outputs": [
    {
     "name": "stdout",
     "output_type": "stream",
     "text": [
      "945/945 [==============================] - 15s 15ms/step\n"
     ]
    },
    {
     "data": {
      "text/plain": [
       "{'accuracy': 0.7279557791605984,\n",
       " 'precision': 0.7369749327556624,\n",
       " 'recall': 0.7279557791605984,\n",
       " 'f1': 0.7285019595443593}"
      ]
     },
     "execution_count": 65,
     "metadata": {},
     "output_type": "execute_result"
    }
   ],
   "source": [
    "model_3_preds = model_3.predict(valid_dataset_chars)\n",
    "model_3_preds = model_3_preds.argmax(axis = 1)\n",
    "from helper_functions import calculate_metrics\n",
    "model_3_results = calculate_metrics(val_labels,model_3_preds)\n",
    "model_3_results"
   ]
  },
  {
   "cell_type": "code",
   "execution_count": null,
   "metadata": {},
   "outputs": [],
   "source": []
  }
 ],
 "metadata": {
  "kernelspec": {
   "display_name": "Python 3",
   "language": "python",
   "name": "python3"
  },
  "language_info": {
   "codemirror_mode": {
    "name": "ipython",
    "version": 3
   },
   "file_extension": ".py",
   "mimetype": "text/x-python",
   "name": "python",
   "nbconvert_exporter": "python",
   "pygments_lexer": "ipython3",
   "version": "3.9.20"
  }
 },
 "nbformat": 4,
 "nbformat_minor": 2
}
